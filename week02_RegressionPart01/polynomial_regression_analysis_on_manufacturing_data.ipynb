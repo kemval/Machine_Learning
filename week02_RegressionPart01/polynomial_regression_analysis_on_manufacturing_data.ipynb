{
 "cells": [
  {
   "cell_type": "markdown",
   "id": "2ddfb502-0909-40c4-b61e-7a905f037806",
   "metadata": {},
   "source": [
    "# Polynomial Regression Analysis on Manufacturing Data\n",
    "\n",
    "## Introduction\n",
    "This notebook explores polynomial regression applied to the manufacturing dataset. Polynomial regression is a form of regression analysis where the relationship between the independent variable x and the dependent variable y is modeled as an nth degree polynomial. It can be useful for capturing the non-linear relationships in the data.\n",
    "\n",
    "## Import Libraries\n",
    "Start by importing all necessary libraries."
   ]
  },
  {
   "cell_type": "code",
   "execution_count": 7,
   "id": "263f135d-2dac-4c19-acb3-5b5b3bb0fd6e",
   "metadata": {},
   "outputs": [],
   "source": [
    "# Import necessary libraries\n",
    "import pandas as pd\n",
    "import numpy as np\n",
    "from sklearn.model_selection import train_test_split\n",
    "from sklearn.preprocessing import PolynomialFeatures, StandardScaler\n",
    "from sklearn.linear_model import LinearRegression\n",
    "from sklearn.metrics import mean_squared_error, r2_score\n",
    "import matplotlib.pyplot as plt"
   ]
  },
  {
   "cell_type": "code",
   "execution_count": 13,
   "id": "7f08e085-0b72-4252-ad6d-395ac3f05a53",
   "metadata": {},
   "outputs": [
    {
     "name": "stdout",
     "output_type": "stream",
     "text": [
      "   Temperature (°C)  Pressure (kPa)  Temperature x Pressure  \\\n",
      "0        209.762701        8.050855             1688.769167   \n",
      "1        243.037873       15.812068             3842.931469   \n",
      "2        220.552675        7.843130             1729.823314   \n",
      "3        208.976637       23.786089             4970.736918   \n",
      "4        184.730960       15.797812             2918.345014   \n",
      "\n",
      "   Material Fusion Metric  Material Transformation Metric  Quality Rating  \n",
      "0            44522.217074                    9.229576e+06       99.999971  \n",
      "1            63020.764997                    1.435537e+07       99.985703  \n",
      "2            49125.950249                    1.072839e+07       99.999758  \n",
      "3            57128.881547                    9.125702e+06       99.999975  \n",
      "4            38068.201283                    6.303792e+06      100.000000  \n"
     ]
    }
   ],
   "source": [
    "# Load the dataset\n",
    "df = pd.read_csv('manufacturing.csv')\n",
    "\n",
    "# Display the first few rows of the dataframe\n",
    "print(df.head())\n"
   ]
  },
  {
   "cell_type": "code",
   "execution_count": 12,
   "id": "7ea99dae-d053-4c9d-a9a0-b3fc8aa76803",
   "metadata": {},
   "outputs": [
    {
     "name": "stdout",
     "output_type": "stream",
     "text": [
      "DataFrame Information:\n",
      "----------------------------------------\n",
      "<class 'pandas.core.frame.DataFrame'>\n",
      "RangeIndex: 3957 entries, 0 to 3956\n",
      "Data columns (total 6 columns):\n",
      " #   Column                          Non-Null Count  Dtype  \n",
      "---  ------                          --------------  -----  \n",
      " 0   Temperature (°C)                3957 non-null   float64\n",
      " 1   Pressure (kPa)                  3957 non-null   float64\n",
      " 2   Temperature x Pressure          3957 non-null   float64\n",
      " 3   Material Fusion Metric          3957 non-null   float64\n",
      " 4   Material Transformation Metric  3957 non-null   float64\n",
      " 5   Quality Rating                  3957 non-null   float64\n",
      "dtypes: float64(6)\n",
      "memory usage: 185.6 KB\n",
      "\n",
      "----------------------------------------\n",
      "DataFrame Statistical Summary:\n",
      "----------------------------------------\n",
      "       Temperature (°C)  Pressure (kPa)  Temperature x Pressure  \\\n",
      "count       3957.000000     3957.000000             3957.000000   \n",
      "mean         200.034704       14.815558             2955.321308   \n",
      "std           58.135717        5.772040             1458.224940   \n",
      "min          100.014490        5.003008              513.706875   \n",
      "25%          150.871296        9.692984             1798.247303   \n",
      "50%          198.603371       14.832557             2678.277782   \n",
      "75%          251.366552       19.749680             3929.058261   \n",
      "max          299.992804       24.999132             7365.018714   \n",
      "\n",
      "       Material Fusion Metric  Material Transformation Metric  Quality Rating  \n",
      "count             3957.000000                    3.957000e+03     3957.000000  \n",
      "mean             48127.183128                    1.003645e+07       96.260179  \n",
      "std              23812.213513                    7.599356e+06       12.992262  \n",
      "min              10156.971955                    9.999462e+05        1.000000  \n",
      "25%              27626.929091                    3.433810e+06       99.941129  \n",
      "50%              44611.452164                    7.833390e+06       99.999997  \n",
      "75%              67805.443846                    1.588251e+07      100.000000  \n",
      "max             103756.181544                    2.699783e+07      100.000000  \n",
      "\n",
      "----------------------------------------\n",
      "Missing Values in DataFrame:\n",
      "----------------------------------------\n",
      "Temperature (°C)                  0\n",
      "Pressure (kPa)                    0\n",
      "Temperature x Pressure            0\n",
      "Material Fusion Metric            0\n",
      "Material Transformation Metric    0\n",
      "Quality Rating                    0\n",
      "dtype: int64\n",
      "\n",
      "----------------------------------------\n",
      "Rows with missing values have been removed.\n",
      "Duplicate rows have been removed.\n",
      "\n",
      "DataFrame is now clean and ready for further analysis.\n"
     ]
    }
   ],
   "source": [
    "# Print a header for the info section\n",
    "print(\"DataFrame Information:\")\n",
    "print(\"-\" * 40)  # prints a line of dashes as a separator\n",
    "# Display basic information about the dataframe\n",
    "df.info()\n",
    "\n",
    "# Add a line break for clarity\n",
    "print(\"\\n\" + \"-\" * 40)\n",
    "\n",
    "# Print a header for the description section\n",
    "print(\"DataFrame Statistical Summary:\")\n",
    "print(\"-\" * 40)  # prints a line of dashes as a separator\n",
    "# Print statistical summary of the dataframe\n",
    "print(df.describe())\n",
    "\n",
    "# Add a line break for clarity\n",
    "print(\"\\n\" + \"-\" * 40)\n",
    "\n",
    "# Print a header for the missing values section\n",
    "print(\"Missing Values in DataFrame:\")\n",
    "print(\"-\" * 40)  # prints a line of dashes as a separator\n",
    "# Check for missing values in each column\n",
    "print(df.isnull().sum())\n",
    "\n",
    "# Add a line break for clarity\n",
    "print(\"\\n\" + \"-\" * 40)\n",
    "\n",
    "# Handling missing values by dropping rows with any missing values\n",
    "df_clean = df.dropna()\n",
    "print(\"Rows with missing values have been removed.\")\n",
    "\n",
    "# Remove duplicates\n",
    "df_clean = df_clean.drop_duplicates()\n",
    "print(\"Duplicate rows have been removed.\")\n",
    "\n",
    "# Print a message indicating that the dataframe is ready for further processing\n",
    "print(\"\\nDataFrame is now clean and ready for further analysis.\")"
   ]
  },
  {
   "cell_type": "code",
   "execution_count": 14,
   "id": "e9d0b22c-d712-4b02-8916-5c0ff7539258",
   "metadata": {},
   "outputs": [
    {
     "name": "stdout",
     "output_type": "stream",
     "text": [
      "Mean Squared Error: 15.027666515261242\n",
      "R^2 Score: 0.9263893126590884\n"
     ]
    },
    {
     "data": {
      "image/png": "[encoded data removed]",
      "text/plain": [
       "<Figure size 640x480 with 1 Axes>"
      ]
     },
     "metadata": {},
     "output_type": "display_data"
    }
   ],
   "source": [
    "\n",
    "# Define the features and the target\n",
    "X = df[['Temperature (°C)', 'Pressure (kPa)', 'Temperature x Pressure', 'Material Fusion Metric', 'Material Transformation Metric']]\n",
    "y = df['Quality Rating']\n",
    "\n",
    "# Split data into training and test sets\n",
    "X_train, X_test, y_train, y_test = train_test_split(X, y, test_size=0.2, random_state=42)\n",
    "\n",
    "# Optionally, apply scaling (if you find it necessary after analysis)\n",
    "scaler = StandardScaler()\n",
    "X_train_scaled = scaler.fit_transform(X_train)\n",
    "X_test_scaled = scaler.transform(X_test)\n",
    "\n",
    "# Transform features into polynomial features\n",
    "poly_features = PolynomialFeatures(degree=2)\n",
    "X_poly_train = poly_features.fit_transform(X_train_scaled)\n",
    "X_poly_test = poly_features.transform(X_test_scaled)\n",
    "\n",
    "# Create a linear regression model\n",
    "model = LinearRegression()\n",
    "\n",
    "# Fit the model on the transformed polynomial features\n",
    "model.fit(X_poly_train, y_train)\n",
    "\n",
    "# Predict on the test data\n",
    "y_pred = model.predict(X_poly_test)\n",
    "\n",
    "# Calculate and print the mean squared error and R^2 score\n",
    "mse = mean_squared_error(y_test, y_pred)\n",
    "r2 = r2_score(y_test, y_pred)\n",
    "print(f\"Mean Squared Error: {mse}\")\n",
    "print(f\"R^2 Score: {r2}\")\n",
    "\n",
    "# Visualization: Scatter plot of actual vs. predicted values\n",
    "plt.scatter(y_test, y_pred)\n",
    "plt.xlabel('Actual Quality Rating')\n",
    "plt.ylabel('Predicted Quality Rating')\n",
    "plt.title('Actual vs Predicted Quality Rating')\n",
    "plt.plot([min(y_test), max(y_test)], [min(y_test), max(y_test)], color='red')  # Line for perfect predictions\n",
    "plt.show()"
   ]
  },
  {
   "cell_type": "code",
   "execution_count": null,
   "id": "16e60f7d-e149-48ad-9250-228ae20cced2",
   "metadata": {},
   "outputs": [],
   "source": []
  }
 ],
 "metadata": {
  "kernelspec": {
   "display_name": "Python 3 (ipykernel)",
   "language": "python",
   "name": "python3"
  },
  "language_info": {
   "codemirror_mode": {
    "name": "ipython",
    "version": 3
   },
   "file_extension": ".py",
   "mimetype": "text/x-python",
   "name": "python",
   "nbconvert_exporter": "python",
   "pygments_lexer": "ipython3",
   "version": "3.11.3"
  }
 },
 "nbformat": 4,
 "nbformat_minor": 5
}
