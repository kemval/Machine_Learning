{
 "cells": [
  {
   "cell_type": "markdown",
   "metadata": {},
   "source": [
    "### Preprocess the Data"
   ]
  },
  {
   "cell_type": "code",
   "execution_count": 1,
   "metadata": {},
   "outputs": [
    {
     "name": "stdout",
     "output_type": "stream",
     "text": [
      "    asparagus  almonds  antioxydant juice  asparagus  avocado  babies food  \\\n",
      "0       False     True               True      False     True        False   \n",
      "1       False    False              False      False    False        False   \n",
      "2       False    False              False      False    False        False   \n",
      "3       False    False              False      False     True        False   \n",
      "4       False    False              False      False    False        False   \n",
      "\n",
      "   bacon  barbecue sauce  black tea  blueberries  ...  turkey  vegetables mix  \\\n",
      "0  False           False      False        False  ...   False            True   \n",
      "1  False           False      False        False  ...   False           False   \n",
      "2  False           False      False        False  ...   False           False   \n",
      "3  False           False      False        False  ...    True           False   \n",
      "4  False           False      False        False  ...   False           False   \n",
      "\n",
      "   water spray  white wine  whole weat flour  whole wheat pasta  \\\n",
      "0        False       False              True              False   \n",
      "1        False       False             False              False   \n",
      "2        False       False             False              False   \n",
      "3        False       False             False              False   \n",
      "4        False       False             False              False   \n",
      "\n",
      "   whole wheat rice   yams  yogurt cake  zucchini  \n",
      "0             False   True        False     False  \n",
      "1             False  False        False     False  \n",
      "2             False  False        False     False  \n",
      "3             False  False        False     False  \n",
      "4              True  False        False     False  \n",
      "\n",
      "[5 rows x 120 columns]\n"
     ]
    }
   ],
   "source": [
    "import pandas as pd\n",
    "from mlxtend.preprocessing import TransactionEncoder\n",
    "from mlxtend.frequent_patterns import apriori, association_rules, fpgrowth\n",
    "\n",
    "# Load the dataset\n",
    "data = pd.read_csv('Market_Basket_Optimisation.csv', header=None)\n",
    "\n",
    "# Convert the data into a list of transactions\n",
    "transactions = []\n",
    "for i in range(len(data)):\n",
    "    transactions.append([str(data.values[i, j]) for j in range(len(data.columns)) if str(data.values[i, j]) != 'nan'])\n",
    "\n",
    "# Convert transactions into a DataFrame\n",
    "te = TransactionEncoder()\n",
    "te_ary = te.fit(transactions).transform(transactions)\n",
    "df = pd.DataFrame(te_ary, columns=te.columns_)\n",
    "\n",
    "# Display the first few rows of the processed DataFrame\n",
    "print(df.head())\n"
   ]
  },
  {
   "cell_type": "markdown",
   "metadata": {},
   "source": [
    "###  Apply the Apriori Algorithm"
   ]
  },
  {
   "cell_type": "code",
   "execution_count": 2,
   "metadata": {},
   "outputs": [
    {
     "name": "stdout",
     "output_type": "stream",
     "text": [
      "Apriori Algorithm Rules:\n",
      "       antecedents      consequents  antecedent support  consequent support  \\\n",
      "0        (avocado)  (mineral water)            0.033329            0.238368   \n",
      "1  (mineral water)        (avocado)            0.238368            0.033329   \n",
      "2           (cake)        (burgers)            0.081056            0.087188   \n",
      "3        (burgers)           (cake)            0.087188            0.081056   \n",
      "4      (chocolate)        (burgers)            0.163845            0.087188   \n",
      "\n",
      "    support  confidence      lift  leverage  conviction  zhangs_metric  \n",
      "0  0.011598    0.348000  1.459926  0.003654    1.168147       0.325896  \n",
      "1  0.011598    0.048658  1.459926  0.003654    1.016113       0.413630  \n",
      "2  0.011465    0.141447  1.622319  0.004398    1.063198       0.417434  \n",
      "3  0.011465    0.131498  1.622319  0.004398    1.058080       0.420238  \n",
      "4  0.017064    0.104150  1.194537  0.002779    1.018933       0.194767  \n",
      "Top Apriori Rules:\n",
      "                    antecedents                 consequents  \\\n",
      "214             (herb & pepper)               (ground beef)   \n",
      "215               (ground beef)             (herb & pepper)   \n",
      "382  (spaghetti, mineral water)               (ground beef)   \n",
      "387               (ground beef)  (spaghetti, mineral water)   \n",
      "399                 (olive oil)  (spaghetti, mineral water)   \n",
      "394  (spaghetti, mineral water)                 (olive oil)   \n",
      "192                  (tomatoes)         (frozen vegetables)   \n",
      "193         (frozen vegetables)                  (tomatoes)   \n",
      "188                    (shrimp)         (frozen vegetables)   \n",
      "189         (frozen vegetables)                    (shrimp)   \n",
      "\n",
      "     antecedent support  consequent support   support  confidence      lift  \\\n",
      "214            0.049460            0.098254  0.015998    0.323450  3.291994   \n",
      "215            0.098254            0.049460  0.015998    0.162822  3.291994   \n",
      "382            0.059725            0.098254  0.017064    0.285714  2.907928   \n",
      "387            0.098254            0.059725  0.017064    0.173677  2.907928   \n",
      "399            0.065858            0.059725  0.010265    0.155870  2.609786   \n",
      "394            0.059725            0.065858  0.010265    0.171875  2.609786   \n",
      "192            0.068391            0.095321  0.016131    0.235867  2.474464   \n",
      "193            0.095321            0.068391  0.016131    0.169231  2.474464   \n",
      "188            0.071457            0.095321  0.016664    0.233209  2.446574   \n",
      "189            0.095321            0.071457  0.016664    0.174825  2.446574   \n",
      "\n",
      "     leverage  conviction  zhangs_metric  \n",
      "214  0.011138    1.332860       0.732460  \n",
      "215  0.011138    1.135410       0.772094  \n",
      "382  0.011196    1.262445       0.697788  \n",
      "387  0.011196    1.137902       0.727602  \n",
      "399  0.006332    1.113898       0.660314  \n",
      "394  0.006332    1.128021       0.656007  \n",
      "192  0.009612    1.183930       0.639616  \n",
      "193  0.009612    1.121381       0.658656  \n",
      "188  0.009853    1.179825       0.636767  \n",
      "189  0.009853    1.125268       0.653563  \n"
     ]
    }
   ],
   "source": [
    "# Apply Apriori algorithm\n",
    "frequent_itemsets = apriori(df, min_support=0.01, use_colnames=True)\n",
    "\n",
    "# Generate association rules\n",
    "rules_apriori = association_rules(frequent_itemsets, metric=\"lift\", min_threshold=1)\n",
    "print(\"Apriori Algorithm Rules:\")\n",
    "print(rules_apriori.head())\n",
    "\n",
    "# Top Apriori Rules\n",
    "print(\"Top Apriori Rules:\")\n",
    "print(rules_apriori.sort_values(by='lift', ascending=False).head(10))\n"
   ]
  },
  {
   "cell_type": "markdown",
   "metadata": {},
   "source": [
    "### Apply the Eclat Algorithm"
   ]
  },
  {
   "cell_type": "code",
   "execution_count": 3,
   "metadata": {},
   "outputs": [
    {
     "name": "stdout",
     "output_type": "stream",
     "text": [
      "Eclat Algorithm Rules:\n",
      "      antecedents     consequents  antecedent support  consequent support  \\\n",
      "0     (spaghetti)     (green tea)            0.174110            0.132116   \n",
      "1     (green tea)     (spaghetti)            0.132116            0.174110   \n",
      "2     (green tea)  (french fries)            0.132116            0.170911   \n",
      "3  (french fries)     (green tea)            0.170911            0.132116   \n",
      "4     (green tea)     (chocolate)            0.132116            0.163845   \n",
      "\n",
      "    support  confidence      lift  leverage  conviction  zhangs_metric  \n",
      "0  0.026530    0.152374  1.153335  0.003527    1.023900       0.160977  \n",
      "1  0.026530    0.200807  1.153335  0.003527    1.033405       0.153188  \n",
      "2  0.028530    0.215943  1.263488  0.005950    1.057436       0.240286  \n",
      "3  0.028530    0.166927  1.263488  0.005950    1.041786       0.251529  \n",
      "4  0.023464    0.177598  1.083943  0.001817    1.016724       0.089231  \n",
      "Top Eclat Rules:\n",
      "                    antecedents                 consequents  \\\n",
      "378             (herb & pepper)               (ground beef)   \n",
      "379               (ground beef)             (herb & pepper)   \n",
      "351               (ground beef)  (spaghetti, mineral water)   \n",
      "346  (spaghetti, mineral water)               (ground beef)   \n",
      "56   (spaghetti, mineral water)                 (olive oil)   \n",
      "61                  (olive oil)  (spaghetti, mineral water)   \n",
      "281         (frozen vegetables)                  (tomatoes)   \n",
      "280                  (tomatoes)         (frozen vegetables)   \n",
      "34                     (shrimp)         (frozen vegetables)   \n",
      "35          (frozen vegetables)                    (shrimp)   \n",
      "\n",
      "     antecedent support  consequent support   support  confidence      lift  \\\n",
      "378            0.049460            0.098254  0.015998    0.323450  3.291994   \n",
      "379            0.098254            0.049460  0.015998    0.162822  3.291994   \n",
      "351            0.098254            0.059725  0.017064    0.173677  2.907928   \n",
      "346            0.059725            0.098254  0.017064    0.285714  2.907928   \n",
      "56             0.059725            0.065858  0.010265    0.171875  2.609786   \n",
      "61             0.065858            0.059725  0.010265    0.155870  2.609786   \n",
      "281            0.095321            0.068391  0.016131    0.169231  2.474464   \n",
      "280            0.068391            0.095321  0.016131    0.235867  2.474464   \n",
      "34             0.071457            0.095321  0.016664    0.233209  2.446574   \n",
      "35             0.095321            0.071457  0.016664    0.174825  2.446574   \n",
      "\n",
      "     leverage  conviction  zhangs_metric  \n",
      "378  0.011138    1.332860       0.732460  \n",
      "379  0.011138    1.135410       0.772094  \n",
      "351  0.011196    1.137902       0.727602  \n",
      "346  0.011196    1.262445       0.697788  \n",
      "56   0.006332    1.128021       0.656007  \n",
      "61   0.006332    1.113898       0.660314  \n",
      "281  0.009612    1.121381       0.658656  \n",
      "280  0.009612    1.183930       0.639616  \n",
      "34   0.009853    1.179825       0.636767  \n",
      "35   0.009853    1.125268       0.653563  \n"
     ]
    }
   ],
   "source": [
    "# Apply Eclat algorithm (FP-Growth)\n",
    "frequent_itemsets_eclat = fpgrowth(df, min_support=0.01, use_colnames=True)\n",
    "\n",
    "# Generate association rules\n",
    "rules_eclat = association_rules(frequent_itemsets_eclat, metric=\"lift\", min_threshold=1)\n",
    "print(\"Eclat Algorithm Rules:\")\n",
    "print(rules_eclat.head())\n",
    "\n",
    "# Top Eclat Rules\n",
    "print(\"Top Eclat Rules:\")\n",
    "print(rules_eclat.sort_values(by='lift', ascending=False).head(10))\n"
   ]
  },
  {
   "cell_type": "markdown",
   "metadata": {},
   "source": [
    "### Conclusion"
   ]
  },
  {
   "cell_type": "markdown",
   "metadata": {},
   "source": [
    "Both the Apriori and Eclat algorithms identified strong and consistent association rules in the dataset. Key rules include:\n",
    "\n",
    "(herb & pepper) -> (ground beef) \n",
    "(spaghetti, mineral water) -> (ground beef)\n",
    "\n",
    "These rules exhibit high lift and confidence, indicating strong associations between the items. The findings suggest that either algorithm is effective for uncovering meaningful relationships in the data, with Apriori being more interpretable and Eclat being more efficient for larger datasets."
   ]
  }
 ],
 "metadata": {
  "kernelspec": {
   "display_name": "Python 3",
   "language": "python",
   "name": "python3"
  },
  "language_info": {
   "codemirror_mode": {
    "name": "ipython",
    "version": 3
   },
   "file_extension": ".py",
   "mimetype": "text/x-python",
   "name": "python",
   "nbconvert_exporter": "python",
   "pygments_lexer": "ipython3",
   "version": "3.11.3"
  }
 },
 "nbformat": 4,
 "nbformat_minor": 2
}
